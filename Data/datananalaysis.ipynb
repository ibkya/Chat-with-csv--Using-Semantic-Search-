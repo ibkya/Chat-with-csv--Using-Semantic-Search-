{
 "cells": [
  {
   "cell_type": "code",
   "execution_count": 76,
   "metadata": {},
   "outputs": [],
   "source": [
    "import pandas as pd"
   ]
  },
  {
   "cell_type": "code",
   "execution_count": 77,
   "metadata": {},
   "outputs": [],
   "source": [
    "df = pd.read_csv(\"/Users/ibrahim/Desktop/workspace/Chat-with-csv--Using-Semantic-Search-/Data/fake_web_traffic_logs_with_cities.csv\")"
   ]
  },
  {
   "cell_type": "code",
   "execution_count": 78,
   "metadata": {},
   "outputs": [
    {
     "data": {
      "text/html": [
       "<div>\n",
       "<style scoped>\n",
       "    .dataframe tbody tr th:only-of-type {\n",
       "        vertical-align: middle;\n",
       "    }\n",
       "\n",
       "    .dataframe tbody tr th {\n",
       "        vertical-align: top;\n",
       "    }\n",
       "\n",
       "    .dataframe thead th {\n",
       "        text-align: right;\n",
       "    }\n",
       "</style>\n",
       "<table border=\"1\" class=\"dataframe\">\n",
       "  <thead>\n",
       "    <tr style=\"text-align: right;\">\n",
       "      <th></th>\n",
       "      <th>IP</th>\n",
       "      <th>Timestamp</th>\n",
       "      <th>HTTP_Method</th>\n",
       "      <th>URL</th>\n",
       "      <th>HTTP_Status</th>\n",
       "      <th>User_Agent</th>\n",
       "      <th>Referrer</th>\n",
       "      <th>Request_Size_Bytes</th>\n",
       "      <th>Response_Size_Bytes</th>\n",
       "      <th>Session_ID</th>\n",
       "      <th>City</th>\n",
       "    </tr>\n",
       "  </thead>\n",
       "  <tbody>\n",
       "    <tr>\n",
       "      <th>0</th>\n",
       "      <td>103.40.234.168</td>\n",
       "      <td>2024-02-12 19:40:09</td>\n",
       "      <td>PUT</td>\n",
       "      <td>/checkout</td>\n",
       "      <td>403</td>\n",
       "      <td>Mozilla/5.0 (Macintosh; PPC Mac OS X 10_11_8; ...</td>\n",
       "      <td>http://www.huang-cooper.com/</td>\n",
       "      <td>767</td>\n",
       "      <td>2186</td>\n",
       "      <td>d38d2520-0dc9-4677-af10-29329bc287b9</td>\n",
       "      <td>İzmir</td>\n",
       "    </tr>\n",
       "    <tr>\n",
       "      <th>1</th>\n",
       "      <td>202.139.162.161</td>\n",
       "      <td>2024-04-21 04:17:49</td>\n",
       "      <td>PUT</td>\n",
       "      <td>/home</td>\n",
       "      <td>301</td>\n",
       "      <td>Mozilla/5.0 (iPod; U; CPU iPhone OS 4_3 like M...</td>\n",
       "      <td>http://payne.biz/</td>\n",
       "      <td>1202</td>\n",
       "      <td>2813</td>\n",
       "      <td>c1c58b10-c948-441d-bf07-f909c404ea28</td>\n",
       "      <td>Tokyo</td>\n",
       "    </tr>\n",
       "    <tr>\n",
       "      <th>2</th>\n",
       "      <td>200.133.227.123</td>\n",
       "      <td>2024-02-19 21:56:53</td>\n",
       "      <td>GET</td>\n",
       "      <td>/about</td>\n",
       "      <td>500</td>\n",
       "      <td>Mozilla/5.0 (iPod; U; CPU iPhone OS 3_2 like M...</td>\n",
       "      <td>http://www.gardner.biz/</td>\n",
       "      <td>959</td>\n",
       "      <td>792</td>\n",
       "      <td>55b83105-02f5-444f-b085-16e72be52014</td>\n",
       "      <td>Ankara</td>\n",
       "    </tr>\n",
       "    <tr>\n",
       "      <th>3</th>\n",
       "      <td>157.195.251.41</td>\n",
       "      <td>2024-06-23 13:17:34</td>\n",
       "      <td>POST</td>\n",
       "      <td>/products</td>\n",
       "      <td>403</td>\n",
       "      <td>Mozilla/5.0 (compatible; MSIE 7.0; Windows 98;...</td>\n",
       "      <td>http://alvarado-walker.com/</td>\n",
       "      <td>731</td>\n",
       "      <td>4710</td>\n",
       "      <td>8fdb7469-1e0a-4ac4-9548-2969aefd84c5</td>\n",
       "      <td>İzmir</td>\n",
       "    </tr>\n",
       "    <tr>\n",
       "      <th>4</th>\n",
       "      <td>142.131.0.192</td>\n",
       "      <td>2024-02-01 17:10:07</td>\n",
       "      <td>DELETE</td>\n",
       "      <td>/home</td>\n",
       "      <td>500</td>\n",
       "      <td>Mozilla/5.0 (Macintosh; PPC Mac OS X 10_10_0 r...</td>\n",
       "      <td>http://murray-adams.com/</td>\n",
       "      <td>948</td>\n",
       "      <td>3138</td>\n",
       "      <td>4b88da64-f9e5-4cc2-84d7-8c880b340625</td>\n",
       "      <td>New York</td>\n",
       "    </tr>\n",
       "  </tbody>\n",
       "</table>\n",
       "</div>"
      ],
      "text/plain": [
       "                IP            Timestamp HTTP_Method        URL  HTTP_Status  \\\n",
       "0   103.40.234.168  2024-02-12 19:40:09         PUT  /checkout          403   \n",
       "1  202.139.162.161  2024-04-21 04:17:49         PUT      /home          301   \n",
       "2  200.133.227.123  2024-02-19 21:56:53         GET     /about          500   \n",
       "3   157.195.251.41  2024-06-23 13:17:34        POST  /products          403   \n",
       "4    142.131.0.192  2024-02-01 17:10:07      DELETE      /home          500   \n",
       "\n",
       "                                          User_Agent  \\\n",
       "0  Mozilla/5.0 (Macintosh; PPC Mac OS X 10_11_8; ...   \n",
       "1  Mozilla/5.0 (iPod; U; CPU iPhone OS 4_3 like M...   \n",
       "2  Mozilla/5.0 (iPod; U; CPU iPhone OS 3_2 like M...   \n",
       "3  Mozilla/5.0 (compatible; MSIE 7.0; Windows 98;...   \n",
       "4  Mozilla/5.0 (Macintosh; PPC Mac OS X 10_10_0 r...   \n",
       "\n",
       "                       Referrer  Request_Size_Bytes  Response_Size_Bytes  \\\n",
       "0  http://www.huang-cooper.com/                 767                 2186   \n",
       "1             http://payne.biz/                1202                 2813   \n",
       "2       http://www.gardner.biz/                 959                  792   \n",
       "3   http://alvarado-walker.com/                 731                 4710   \n",
       "4      http://murray-adams.com/                 948                 3138   \n",
       "\n",
       "                             Session_ID      City  \n",
       "0  d38d2520-0dc9-4677-af10-29329bc287b9     İzmir  \n",
       "1  c1c58b10-c948-441d-bf07-f909c404ea28     Tokyo  \n",
       "2  55b83105-02f5-444f-b085-16e72be52014    Ankara  \n",
       "3  8fdb7469-1e0a-4ac4-9548-2969aefd84c5     İzmir  \n",
       "4  4b88da64-f9e5-4cc2-84d7-8c880b340625  New York  "
      ]
     },
     "execution_count": 78,
     "metadata": {},
     "output_type": "execute_result"
    }
   ],
   "source": [
    "df.head()"
   ]
  },
  {
   "cell_type": "code",
   "execution_count": 79,
   "metadata": {},
   "outputs": [
    {
     "name": "stdout",
     "output_type": "stream",
     "text": [
      "15\n",
      "['İzmir' 'Tokyo' 'Ankara' 'New York' 'Edirne' 'Bursa' 'Berlin' 'Londra'\n",
      " 'İstanbul' 'Paris' 'Konya' 'Diyarbakır' 'Gaziantep' 'Antalya' 'Adana']\n"
     ]
    }
   ],
   "source": [
    "print(len(df[\"City\"].unique()))\n",
    "print(df[\"City\"].unique())"
   ]
  },
  {
   "cell_type": "markdown",
   "metadata": {},
   "source": [
    "Bu kodu yazma amacım, veri setindeki \"City\" sütununda kaç farklı şehir bulunduğunu ve bu şehirlerin neler olduğunu tespit etmektir. İlk satır, veri setindeki benzersiz şehirlerin sayısını belirlemek için kullanılırken, ikinci satır ise bu şehirlerin isimlerini bir liste olarak sunar.\n",
    "\n",
    "Bu tür bir analiz, veri setinde coğrafi çeşitliliği anlamak, şehir bazında yapılan analizlerin daha doğru ve hedefli olmasını sağlamak amacıyla önemlidir. Ayrıca, bu bilgilere dayanarak, modelin veya analizin odaklanacağı spesifik şehirleri belirlemek mümkün olur.\n"
   ]
  },
  {
   "cell_type": "markdown",
   "metadata": {},
   "source": [
    "## Gereksiz Sütunları Temizleyelim"
   ]
  },
  {
   "cell_type": "code",
   "execution_count": 80,
   "metadata": {},
   "outputs": [
    {
     "data": {
      "text/plain": [
       "Index(['IP', 'Timestamp', 'HTTP_Method', 'URL', 'HTTP_Status', 'User_Agent',\n",
       "       'Referrer', 'Request_Size_Bytes', 'Response_Size_Bytes', 'Session_ID',\n",
       "       'City'],\n",
       "      dtype='object')"
      ]
     },
     "execution_count": 80,
     "metadata": {},
     "output_type": "execute_result"
    }
   ],
   "source": [
    "df.columns"
   ]
  },
  {
   "cell_type": "code",
   "execution_count": 81,
   "metadata": {},
   "outputs": [],
   "source": [
    "df.drop([\"IP\",\"Timestamp\", \"Referrer\", \"Session_ID\",\"User_Agent\"], axis = 1, inplace=True)"
   ]
  },
  {
   "cell_type": "markdown",
   "metadata": {},
   "source": [
    "Bu veri setinden \"IP\", \"Timestamp\", \"Referrer\", \"Session_ID\" ve \"User_Agent\" sütunlarını çıkardım çünkü LLM (Büyük Dil Modeli) kullanarak veri ile bir Retrieval-Augmented Generation (RAG) yaklaşımıyla kullanıcı sorgularına yanıt üretmeyi hedefliyorum. Bu sütunlar, modelin yanıt üretim sürecinde gereksiz veya aşırı bilgi yükü oluşturabilecek meta verilerdir. Modelin asıl odaklanması gereken içerik ve kullanıcı sorgularıyla daha alakalı sütunlardır; dolayısıyla bu verileri çıkararak, modelin daha verimli ve odaklı çalışmasını sağlamak istiyorum.\n"
   ]
  },
  {
   "cell_type": "code",
   "execution_count": 82,
   "metadata": {},
   "outputs": [
    {
     "data": {
      "text/html": [
       "<div>\n",
       "<style scoped>\n",
       "    .dataframe tbody tr th:only-of-type {\n",
       "        vertical-align: middle;\n",
       "    }\n",
       "\n",
       "    .dataframe tbody tr th {\n",
       "        vertical-align: top;\n",
       "    }\n",
       "\n",
       "    .dataframe thead th {\n",
       "        text-align: right;\n",
       "    }\n",
       "</style>\n",
       "<table border=\"1\" class=\"dataframe\">\n",
       "  <thead>\n",
       "    <tr style=\"text-align: right;\">\n",
       "      <th></th>\n",
       "      <th>HTTP_Method</th>\n",
       "      <th>URL</th>\n",
       "      <th>HTTP_Status</th>\n",
       "      <th>Request_Size_Bytes</th>\n",
       "      <th>Response_Size_Bytes</th>\n",
       "      <th>City</th>\n",
       "    </tr>\n",
       "  </thead>\n",
       "  <tbody>\n",
       "    <tr>\n",
       "      <th>0</th>\n",
       "      <td>PUT</td>\n",
       "      <td>/checkout</td>\n",
       "      <td>403</td>\n",
       "      <td>767</td>\n",
       "      <td>2186</td>\n",
       "      <td>İzmir</td>\n",
       "    </tr>\n",
       "    <tr>\n",
       "      <th>1</th>\n",
       "      <td>PUT</td>\n",
       "      <td>/home</td>\n",
       "      <td>301</td>\n",
       "      <td>1202</td>\n",
       "      <td>2813</td>\n",
       "      <td>Tokyo</td>\n",
       "    </tr>\n",
       "    <tr>\n",
       "      <th>2</th>\n",
       "      <td>GET</td>\n",
       "      <td>/about</td>\n",
       "      <td>500</td>\n",
       "      <td>959</td>\n",
       "      <td>792</td>\n",
       "      <td>Ankara</td>\n",
       "    </tr>\n",
       "    <tr>\n",
       "      <th>3</th>\n",
       "      <td>POST</td>\n",
       "      <td>/products</td>\n",
       "      <td>403</td>\n",
       "      <td>731</td>\n",
       "      <td>4710</td>\n",
       "      <td>İzmir</td>\n",
       "    </tr>\n",
       "    <tr>\n",
       "      <th>4</th>\n",
       "      <td>DELETE</td>\n",
       "      <td>/home</td>\n",
       "      <td>500</td>\n",
       "      <td>948</td>\n",
       "      <td>3138</td>\n",
       "      <td>New York</td>\n",
       "    </tr>\n",
       "  </tbody>\n",
       "</table>\n",
       "</div>"
      ],
      "text/plain": [
       "  HTTP_Method        URL  HTTP_Status  Request_Size_Bytes  \\\n",
       "0         PUT  /checkout          403                 767   \n",
       "1         PUT      /home          301                1202   \n",
       "2         GET     /about          500                 959   \n",
       "3        POST  /products          403                 731   \n",
       "4      DELETE      /home          500                 948   \n",
       "\n",
       "   Response_Size_Bytes      City  \n",
       "0                 2186     İzmir  \n",
       "1                 2813     Tokyo  \n",
       "2                  792    Ankara  \n",
       "3                 4710     İzmir  \n",
       "4                 3138  New York  "
      ]
     },
     "execution_count": 82,
     "metadata": {},
     "output_type": "execute_result"
    }
   ],
   "source": [
    "df.head()"
   ]
  },
  {
   "cell_type": "code",
   "execution_count": 83,
   "metadata": {},
   "outputs": [
    {
     "data": {
      "text/html": [
       "<div>\n",
       "<style scoped>\n",
       "    .dataframe tbody tr th:only-of-type {\n",
       "        vertical-align: middle;\n",
       "    }\n",
       "\n",
       "    .dataframe tbody tr th {\n",
       "        vertical-align: top;\n",
       "    }\n",
       "\n",
       "    .dataframe thead th {\n",
       "        text-align: right;\n",
       "    }\n",
       "</style>\n",
       "<table border=\"1\" class=\"dataframe\">\n",
       "  <thead>\n",
       "    <tr style=\"text-align: right;\">\n",
       "      <th></th>\n",
       "      <th>HTTP Yöntemi</th>\n",
       "      <th>URL</th>\n",
       "      <th>Durum Kodu</th>\n",
       "      <th>İstek Boyutu (Bayt)</th>\n",
       "      <th>Yanıt Boyutu (Bayt)</th>\n",
       "      <th>Konum</th>\n",
       "    </tr>\n",
       "  </thead>\n",
       "  <tbody>\n",
       "    <tr>\n",
       "      <th>0</th>\n",
       "      <td>PUT</td>\n",
       "      <td>/checkout</td>\n",
       "      <td>403</td>\n",
       "      <td>767</td>\n",
       "      <td>2186</td>\n",
       "      <td>İzmir</td>\n",
       "    </tr>\n",
       "    <tr>\n",
       "      <th>1</th>\n",
       "      <td>PUT</td>\n",
       "      <td>/home</td>\n",
       "      <td>301</td>\n",
       "      <td>1202</td>\n",
       "      <td>2813</td>\n",
       "      <td>Tokyo</td>\n",
       "    </tr>\n",
       "    <tr>\n",
       "      <th>2</th>\n",
       "      <td>GET</td>\n",
       "      <td>/about</td>\n",
       "      <td>500</td>\n",
       "      <td>959</td>\n",
       "      <td>792</td>\n",
       "      <td>Ankara</td>\n",
       "    </tr>\n",
       "    <tr>\n",
       "      <th>3</th>\n",
       "      <td>POST</td>\n",
       "      <td>/products</td>\n",
       "      <td>403</td>\n",
       "      <td>731</td>\n",
       "      <td>4710</td>\n",
       "      <td>İzmir</td>\n",
       "    </tr>\n",
       "    <tr>\n",
       "      <th>4</th>\n",
       "      <td>DELETE</td>\n",
       "      <td>/home</td>\n",
       "      <td>500</td>\n",
       "      <td>948</td>\n",
       "      <td>3138</td>\n",
       "      <td>New York</td>\n",
       "    </tr>\n",
       "  </tbody>\n",
       "</table>\n",
       "</div>"
      ],
      "text/plain": [
       "  HTTP Yöntemi        URL  Durum Kodu  İstek Boyutu (Bayt)  \\\n",
       "0          PUT  /checkout         403                  767   \n",
       "1          PUT      /home         301                 1202   \n",
       "2          GET     /about         500                  959   \n",
       "3         POST  /products         403                  731   \n",
       "4       DELETE      /home         500                  948   \n",
       "\n",
       "   Yanıt Boyutu (Bayt)     Konum  \n",
       "0                 2186     İzmir  \n",
       "1                 2813     Tokyo  \n",
       "2                  792    Ankara  \n",
       "3                 4710     İzmir  \n",
       "4                 3138  New York  "
      ]
     },
     "execution_count": 83,
     "metadata": {},
     "output_type": "execute_result"
    }
   ],
   "source": [
    "# Sütun isimlerini Türkçe olarak yeniden adlandıralım\n",
    "df.columns = [\n",
    "    'HTTP Yöntemi', 'URL', 'Durum Kodu', 'İstek Boyutu (Bayt)', \n",
    "    'Yanıt Boyutu (Bayt)', 'Konum'\n",
    "]\n",
    "\n",
    "df.head()\n"
   ]
  },
  {
   "cell_type": "code",
   "execution_count": 84,
   "metadata": {},
   "outputs": [],
   "source": [
    "#Yanıt ve istek boyutlarının da bir soru cevap sisteminde bulunmasının gereği olmadığından onları da çıkartma kararı alalım.\n",
    "df.drop([\"İstek Boyutu (Bayt)\",\t\"Yanıt Boyutu (Bayt)\"], axis = 1, inplace=True)"
   ]
  },
  {
   "cell_type": "code",
   "execution_count": 85,
   "metadata": {},
   "outputs": [
    {
     "data": {
      "text/html": [
       "<div>\n",
       "<style scoped>\n",
       "    .dataframe tbody tr th:only-of-type {\n",
       "        vertical-align: middle;\n",
       "    }\n",
       "\n",
       "    .dataframe tbody tr th {\n",
       "        vertical-align: top;\n",
       "    }\n",
       "\n",
       "    .dataframe thead th {\n",
       "        text-align: right;\n",
       "    }\n",
       "</style>\n",
       "<table border=\"1\" class=\"dataframe\">\n",
       "  <thead>\n",
       "    <tr style=\"text-align: right;\">\n",
       "      <th></th>\n",
       "      <th>HTTP Yöntemi</th>\n",
       "      <th>URL</th>\n",
       "      <th>Durum Kodu</th>\n",
       "      <th>Konum</th>\n",
       "    </tr>\n",
       "  </thead>\n",
       "  <tbody>\n",
       "    <tr>\n",
       "      <th>0</th>\n",
       "      <td>PUT</td>\n",
       "      <td>/checkout</td>\n",
       "      <td>403</td>\n",
       "      <td>İzmir</td>\n",
       "    </tr>\n",
       "    <tr>\n",
       "      <th>1</th>\n",
       "      <td>PUT</td>\n",
       "      <td>/home</td>\n",
       "      <td>301</td>\n",
       "      <td>Tokyo</td>\n",
       "    </tr>\n",
       "    <tr>\n",
       "      <th>2</th>\n",
       "      <td>GET</td>\n",
       "      <td>/about</td>\n",
       "      <td>500</td>\n",
       "      <td>Ankara</td>\n",
       "    </tr>\n",
       "    <tr>\n",
       "      <th>3</th>\n",
       "      <td>POST</td>\n",
       "      <td>/products</td>\n",
       "      <td>403</td>\n",
       "      <td>İzmir</td>\n",
       "    </tr>\n",
       "    <tr>\n",
       "      <th>4</th>\n",
       "      <td>DELETE</td>\n",
       "      <td>/home</td>\n",
       "      <td>500</td>\n",
       "      <td>New York</td>\n",
       "    </tr>\n",
       "    <tr>\n",
       "      <th>...</th>\n",
       "      <td>...</td>\n",
       "      <td>...</td>\n",
       "      <td>...</td>\n",
       "      <td>...</td>\n",
       "    </tr>\n",
       "    <tr>\n",
       "      <th>995</th>\n",
       "      <td>PUT</td>\n",
       "      <td>/products</td>\n",
       "      <td>404</td>\n",
       "      <td>Edirne</td>\n",
       "    </tr>\n",
       "    <tr>\n",
       "      <th>996</th>\n",
       "      <td>DELETE</td>\n",
       "      <td>/home</td>\n",
       "      <td>301</td>\n",
       "      <td>Adana</td>\n",
       "    </tr>\n",
       "    <tr>\n",
       "      <th>997</th>\n",
       "      <td>GET</td>\n",
       "      <td>/cart</td>\n",
       "      <td>200</td>\n",
       "      <td>Paris</td>\n",
       "    </tr>\n",
       "    <tr>\n",
       "      <th>998</th>\n",
       "      <td>GET</td>\n",
       "      <td>/services</td>\n",
       "      <td>500</td>\n",
       "      <td>Berlin</td>\n",
       "    </tr>\n",
       "    <tr>\n",
       "      <th>999</th>\n",
       "      <td>PUT</td>\n",
       "      <td>/blog</td>\n",
       "      <td>200</td>\n",
       "      <td>Konya</td>\n",
       "    </tr>\n",
       "  </tbody>\n",
       "</table>\n",
       "<p>1000 rows × 4 columns</p>\n",
       "</div>"
      ],
      "text/plain": [
       "    HTTP Yöntemi        URL  Durum Kodu     Konum\n",
       "0            PUT  /checkout         403     İzmir\n",
       "1            PUT      /home         301     Tokyo\n",
       "2            GET     /about         500    Ankara\n",
       "3           POST  /products         403     İzmir\n",
       "4         DELETE      /home         500  New York\n",
       "..           ...        ...         ...       ...\n",
       "995          PUT  /products         404    Edirne\n",
       "996       DELETE      /home         301     Adana\n",
       "997          GET      /cart         200     Paris\n",
       "998          GET  /services         500    Berlin\n",
       "999          PUT      /blog         200     Konya\n",
       "\n",
       "[1000 rows x 4 columns]"
      ]
     },
     "execution_count": 85,
     "metadata": {},
     "output_type": "execute_result"
    }
   ],
   "source": [
    "df"
   ]
  },
  {
   "cell_type": "markdown",
   "metadata": {},
   "source": [
    "## Sistemimizde kullanmak üzere temizlediğimiz veri setini kayededelim"
   ]
  },
  {
   "cell_type": "code",
   "execution_count": 86,
   "metadata": {},
   "outputs": [],
   "source": [
    "df.to_csv('data.csv', index=False)"
   ]
  },
  {
   "cell_type": "code",
   "execution_count": 87,
   "metadata": {},
   "outputs": [
    {
     "name": "stdout",
     "output_type": "stream",
     "text": [
      "<class 'pandas.core.frame.DataFrame'>\n",
      "RangeIndex: 1000 entries, 0 to 999\n",
      "Data columns (total 4 columns):\n",
      " #   Column        Non-Null Count  Dtype \n",
      "---  ------        --------------  ----- \n",
      " 0   HTTP Yöntemi  1000 non-null   object\n",
      " 1   URL           1000 non-null   object\n",
      " 2   Durum Kodu    1000 non-null   int64 \n",
      " 3   Konum         1000 non-null   object\n",
      "dtypes: int64(1), object(3)\n",
      "memory usage: 31.4+ KB\n"
     ]
    }
   ],
   "source": [
    "#Boş değer var mı yok mu gelen olarak veriyi analiz edelim\n",
    "df.info()"
   ]
  },
  {
   "cell_type": "code",
   "execution_count": 89,
   "metadata": {},
   "outputs": [],
   "source": [
    "#Web sitesinden alınan ve gönderilen veri boyutlarını analiz edelim.\n",
    "df_for_t_s = pd.read_csv(\"/Users/ibrahim/Desktop/workspace/Chat-with-csv--Using-Semantic-Search-/Data/fake_web_traffic_logs_with_cities.csv\")\n",
    "Bayt_analysis = df_for_t_s[[\"Response_Size_Bytes\", \"Request_Size_Bytes\"]]"
   ]
  },
  {
   "cell_type": "code",
   "execution_count": 90,
   "metadata": {},
   "outputs": [
    {
     "data": {
      "text/html": [
       "<div>\n",
       "<style scoped>\n",
       "    .dataframe tbody tr th:only-of-type {\n",
       "        vertical-align: middle;\n",
       "    }\n",
       "\n",
       "    .dataframe tbody tr th {\n",
       "        vertical-align: top;\n",
       "    }\n",
       "\n",
       "    .dataframe thead th {\n",
       "        text-align: right;\n",
       "    }\n",
       "</style>\n",
       "<table border=\"1\" class=\"dataframe\">\n",
       "  <thead>\n",
       "    <tr style=\"text-align: right;\">\n",
       "      <th></th>\n",
       "      <th>Response_Size_Bytes</th>\n",
       "      <th>Request_Size_Bytes</th>\n",
       "    </tr>\n",
       "  </thead>\n",
       "  <tbody>\n",
       "    <tr>\n",
       "      <th>0</th>\n",
       "      <td>2186</td>\n",
       "      <td>767</td>\n",
       "    </tr>\n",
       "    <tr>\n",
       "      <th>1</th>\n",
       "      <td>2813</td>\n",
       "      <td>1202</td>\n",
       "    </tr>\n",
       "    <tr>\n",
       "      <th>2</th>\n",
       "      <td>792</td>\n",
       "      <td>959</td>\n",
       "    </tr>\n",
       "    <tr>\n",
       "      <th>3</th>\n",
       "      <td>4710</td>\n",
       "      <td>731</td>\n",
       "    </tr>\n",
       "    <tr>\n",
       "      <th>4</th>\n",
       "      <td>3138</td>\n",
       "      <td>948</td>\n",
       "    </tr>\n",
       "    <tr>\n",
       "      <th>...</th>\n",
       "      <td>...</td>\n",
       "      <td>...</td>\n",
       "    </tr>\n",
       "    <tr>\n",
       "      <th>995</th>\n",
       "      <td>4769</td>\n",
       "      <td>1595</td>\n",
       "    </tr>\n",
       "    <tr>\n",
       "      <th>996</th>\n",
       "      <td>498</td>\n",
       "      <td>1777</td>\n",
       "    </tr>\n",
       "    <tr>\n",
       "      <th>997</th>\n",
       "      <td>4773</td>\n",
       "      <td>630</td>\n",
       "    </tr>\n",
       "    <tr>\n",
       "      <th>998</th>\n",
       "      <td>393</td>\n",
       "      <td>1604</td>\n",
       "    </tr>\n",
       "    <tr>\n",
       "      <th>999</th>\n",
       "      <td>1565</td>\n",
       "      <td>1761</td>\n",
       "    </tr>\n",
       "  </tbody>\n",
       "</table>\n",
       "<p>1000 rows × 2 columns</p>\n",
       "</div>"
      ],
      "text/plain": [
       "     Response_Size_Bytes  Request_Size_Bytes\n",
       "0                   2186                 767\n",
       "1                   2813                1202\n",
       "2                    792                 959\n",
       "3                   4710                 731\n",
       "4                   3138                 948\n",
       "..                   ...                 ...\n",
       "995                 4769                1595\n",
       "996                  498                1777\n",
       "997                 4773                 630\n",
       "998                  393                1604\n",
       "999                 1565                1761\n",
       "\n",
       "[1000 rows x 2 columns]"
      ]
     },
     "execution_count": 90,
     "metadata": {},
     "output_type": "execute_result"
    }
   ],
   "source": [
    "Bayt_analysis"
   ]
  },
  {
   "cell_type": "code",
   "execution_count": 91,
   "metadata": {},
   "outputs": [
    {
     "data": {
      "text/html": [
       "<div>\n",
       "<style scoped>\n",
       "    .dataframe tbody tr th:only-of-type {\n",
       "        vertical-align: middle;\n",
       "    }\n",
       "\n",
       "    .dataframe tbody tr th {\n",
       "        vertical-align: top;\n",
       "    }\n",
       "\n",
       "    .dataframe thead th {\n",
       "        text-align: right;\n",
       "    }\n",
       "</style>\n",
       "<table border=\"1\" class=\"dataframe\">\n",
       "  <thead>\n",
       "    <tr style=\"text-align: right;\">\n",
       "      <th></th>\n",
       "      <th>count</th>\n",
       "      <th>mean</th>\n",
       "      <th>std</th>\n",
       "      <th>min</th>\n",
       "      <th>25%</th>\n",
       "      <th>50%</th>\n",
       "      <th>75%</th>\n",
       "      <th>max</th>\n",
       "    </tr>\n",
       "  </thead>\n",
       "  <tbody>\n",
       "    <tr>\n",
       "      <th>Response_Size_Bytes</th>\n",
       "      <td>1000.0</td>\n",
       "      <td>2612.813</td>\n",
       "      <td>1390.108758</td>\n",
       "      <td>202.0</td>\n",
       "      <td>1426.0</td>\n",
       "      <td>2686.0</td>\n",
       "      <td>3814.5</td>\n",
       "      <td>5000.0</td>\n",
       "    </tr>\n",
       "    <tr>\n",
       "      <th>Request_Size_Bytes</th>\n",
       "      <td>1000.0</td>\n",
       "      <td>1053.512</td>\n",
       "      <td>542.659445</td>\n",
       "      <td>101.0</td>\n",
       "      <td>586.0</td>\n",
       "      <td>1054.0</td>\n",
       "      <td>1514.5</td>\n",
       "      <td>1999.0</td>\n",
       "    </tr>\n",
       "  </tbody>\n",
       "</table>\n",
       "</div>"
      ],
      "text/plain": [
       "                      count      mean          std    min     25%     50%  \\\n",
       "Response_Size_Bytes  1000.0  2612.813  1390.108758  202.0  1426.0  2686.0   \n",
       "Request_Size_Bytes   1000.0  1053.512   542.659445  101.0   586.0  1054.0   \n",
       "\n",
       "                        75%     max  \n",
       "Response_Size_Bytes  3814.5  5000.0  \n",
       "Request_Size_Bytes   1514.5  1999.0  "
      ]
     },
     "execution_count": 91,
     "metadata": {},
     "output_type": "execute_result"
    }
   ],
   "source": [
    "Bayt_analysis.describe().T"
   ]
  },
  {
   "cell_type": "markdown",
   "metadata": {},
   "source": [
    "Bu analize bakıldığında, \"Response_Size_Bytes\" değişkeni ortalama 2612,81 bayt ile oldukça geniş bir dağılım gösteriyor, çünkü standart sapma 1390,11 bayt gibi yüksek bir değere sahip. Bu, yanıt boyutlarının önemli ölçüde değişkenlik gösterdiğini ve bazı yanıtların oldukça büyük veya küçük olabileceğini düşündürmektedir. Yanıt boyutlarının medyanı (2686 bayt), ortalamaya oldukça yakın olup, verinin sağa çarpık olmadığına işaret ediyor. En küçük yanıt boyutu 202 bayt, en büyük ise 5000 bayt olarak ölçülmüştür. Diğer taraftan, \"Request_Size_Bytes\" değişkeni ortalama 1053,51 bayt ile daha küçük boyutlarda olup, standart sapması 542,66 bayt ile daha düşük bir yayılım gösteriyor. Bu, istek boyutlarının yanıt boyutlarına kıyasla daha tutarlı olduğunu gösterir. İstek boyutlarının medyanı (1054 bayt) ortalamaya oldukça yakındır, bu da simetrik bir dağılımı işaret eder. En küçük istek boyutu 101 bayt, en büyük ise 1999 bayt olarak belirlenmiştir. Genel olarak, yanıt boyutları istek boyutlarına kıyasla daha geniş bir aralıkta dağılım gösterirken, istek boyutları daha tutarlı ve dar bir aralıkta seyretmektedir."
   ]
  },
  {
   "cell_type": "code",
   "execution_count": 92,
   "metadata": {},
   "outputs": [
    {
     "data": {
      "text/html": [
       "<div>\n",
       "<style scoped>\n",
       "    .dataframe tbody tr th:only-of-type {\n",
       "        vertical-align: middle;\n",
       "    }\n",
       "\n",
       "    .dataframe tbody tr th {\n",
       "        vertical-align: top;\n",
       "    }\n",
       "\n",
       "    .dataframe thead th {\n",
       "        text-align: right;\n",
       "    }\n",
       "</style>\n",
       "<table border=\"1\" class=\"dataframe\">\n",
       "  <thead>\n",
       "    <tr style=\"text-align: right;\">\n",
       "      <th></th>\n",
       "      <th>HTTP Yöntemi</th>\n",
       "      <th>URL</th>\n",
       "      <th>Durum Kodu</th>\n",
       "      <th>Konum</th>\n",
       "    </tr>\n",
       "  </thead>\n",
       "  <tbody>\n",
       "    <tr>\n",
       "      <th>0</th>\n",
       "      <td>PUT</td>\n",
       "      <td>/checkout</td>\n",
       "      <td>403</td>\n",
       "      <td>İzmir</td>\n",
       "    </tr>\n",
       "    <tr>\n",
       "      <th>1</th>\n",
       "      <td>PUT</td>\n",
       "      <td>/home</td>\n",
       "      <td>301</td>\n",
       "      <td>Tokyo</td>\n",
       "    </tr>\n",
       "    <tr>\n",
       "      <th>2</th>\n",
       "      <td>GET</td>\n",
       "      <td>/about</td>\n",
       "      <td>500</td>\n",
       "      <td>Ankara</td>\n",
       "    </tr>\n",
       "    <tr>\n",
       "      <th>3</th>\n",
       "      <td>POST</td>\n",
       "      <td>/products</td>\n",
       "      <td>403</td>\n",
       "      <td>İzmir</td>\n",
       "    </tr>\n",
       "    <tr>\n",
       "      <th>4</th>\n",
       "      <td>DELETE</td>\n",
       "      <td>/home</td>\n",
       "      <td>500</td>\n",
       "      <td>New York</td>\n",
       "    </tr>\n",
       "    <tr>\n",
       "      <th>...</th>\n",
       "      <td>...</td>\n",
       "      <td>...</td>\n",
       "      <td>...</td>\n",
       "      <td>...</td>\n",
       "    </tr>\n",
       "    <tr>\n",
       "      <th>995</th>\n",
       "      <td>PUT</td>\n",
       "      <td>/products</td>\n",
       "      <td>404</td>\n",
       "      <td>Edirne</td>\n",
       "    </tr>\n",
       "    <tr>\n",
       "      <th>996</th>\n",
       "      <td>DELETE</td>\n",
       "      <td>/home</td>\n",
       "      <td>301</td>\n",
       "      <td>Adana</td>\n",
       "    </tr>\n",
       "    <tr>\n",
       "      <th>997</th>\n",
       "      <td>GET</td>\n",
       "      <td>/cart</td>\n",
       "      <td>200</td>\n",
       "      <td>Paris</td>\n",
       "    </tr>\n",
       "    <tr>\n",
       "      <th>998</th>\n",
       "      <td>GET</td>\n",
       "      <td>/services</td>\n",
       "      <td>500</td>\n",
       "      <td>Berlin</td>\n",
       "    </tr>\n",
       "    <tr>\n",
       "      <th>999</th>\n",
       "      <td>PUT</td>\n",
       "      <td>/blog</td>\n",
       "      <td>200</td>\n",
       "      <td>Konya</td>\n",
       "    </tr>\n",
       "  </tbody>\n",
       "</table>\n",
       "<p>1000 rows × 4 columns</p>\n",
       "</div>"
      ],
      "text/plain": [
       "    HTTP Yöntemi        URL  Durum Kodu     Konum\n",
       "0            PUT  /checkout         403     İzmir\n",
       "1            PUT      /home         301     Tokyo\n",
       "2            GET     /about         500    Ankara\n",
       "3           POST  /products         403     İzmir\n",
       "4         DELETE      /home         500  New York\n",
       "..           ...        ...         ...       ...\n",
       "995          PUT  /products         404    Edirne\n",
       "996       DELETE      /home         301     Adana\n",
       "997          GET      /cart         200     Paris\n",
       "998          GET  /services         500    Berlin\n",
       "999          PUT      /blog         200     Konya\n",
       "\n",
       "[1000 rows x 4 columns]"
      ]
     },
     "execution_count": 92,
     "metadata": {},
     "output_type": "execute_result"
    }
   ],
   "source": [
    "df"
   ]
  },
  {
   "cell_type": "markdown",
   "metadata": {},
   "source": [
    "## HTTP Yöntemine Göre Analiz"
   ]
  },
  {
   "cell_type": "code",
   "execution_count": 93,
   "metadata": {},
   "outputs": [
    {
     "name": "stdout",
     "output_type": "stream",
     "text": [
      "HTTP Yöntemi\n",
      "DELETE    260\n",
      "GET       255\n",
      "PUT       248\n",
      "POST      237\n",
      "Name: count, dtype: int64\n"
     ]
    }
   ],
   "source": [
    "method_distribution = df[\"HTTP Yöntemi\"].value_counts()\n",
    "print(method_distribution)"
   ]
  },
  {
   "cell_type": "markdown",
   "metadata": {},
   "source": [
    "Bu kod, veri setindeki HTTP yöntemlerinin (GET, POST, PUT, DELETE) ne sıklıkla kullanıldığını gösterir. Bu sayede en çok hangi HTTP yöntemlerinin kullanıldığını anlayabiliriz."
   ]
  },
  {
   "cell_type": "markdown",
   "metadata": {},
   "source": [
    "## Şehir Bazlı Analiz"
   ]
  },
  {
   "cell_type": "code",
   "execution_count": 94,
   "metadata": {},
   "outputs": [
    {
     "name": "stdout",
     "output_type": "stream",
     "text": [
      "Konum\n",
      "Adana         78\n",
      "Ankara        76\n",
      "İstanbul      72\n",
      "Paris         69\n",
      "Konya         69\n",
      "New York      68\n",
      "Bursa         68\n",
      "Diyarbakır    67\n",
      "Tokyo         65\n",
      "Edirne        63\n",
      "Londra        63\n",
      "İzmir         62\n",
      "Berlin        61\n",
      "Antalya       61\n",
      "Gaziantep     58\n",
      "Name: count, dtype: int64\n"
     ]
    }
   ],
   "source": [
    "city_distribution = df[\"Konum\"].value_counts()\n",
    "print(city_distribution)\n"
   ]
  },
  {
   "cell_type": "markdown",
   "metadata": {},
   "source": [
    "Bu kod, hangi şehirlerden daha fazla istek geldiğini analiz eder. Bu sayede, coğrafi olarak hangi bölgelerin daha aktif olduğunu görebiliriz."
   ]
  },
  {
   "cell_type": "markdown",
   "metadata": {},
   "source": [
    "## URL Performansı"
   ]
  },
  {
   "cell_type": "code",
   "execution_count": 95,
   "metadata": {},
   "outputs": [
    {
     "name": "stdout",
     "output_type": "stream",
     "text": [
      "Durum Kodu  200  301  403  404  500\n",
      "URL                                \n",
      "/about       15   26   16   15   25\n",
      "/blog        17   12   16   15   23\n",
      "/cart        10   26   14   12   15\n",
      "/checkout    20   18   13   16   16\n",
      "/contact     13   16   17   18   19\n",
      "/home        20   20   10   17   17\n",
      "/login       12   14    9   18   28\n",
      "/products    17   19   17   16   13\n",
      "/profile     16    9   22   16   13\n",
      "/search      17   19   19   17   27\n",
      "/services    12   12   11   17   22\n",
      "/signup      20   18   10   16   17\n"
     ]
    }
   ],
   "source": [
    "url_status_distribution = df.groupby(\"URL\")[\"Durum Kodu\"].value_counts().unstack()\n",
    "print(url_status_distribution)"
   ]
  },
  {
   "cell_type": "markdown",
   "metadata": {},
   "source": [
    "Bu yapı, farklı URL'lerin ne tür HTTP durum kodları döndürdüğünü gösterir. Bu, hangi URL'lerin başarılı olduğunu, hangilerinin ise hata verdiğini anlamak için kullanılır."
   ]
  },
  {
   "cell_type": "markdown",
   "metadata": {},
   "source": [
    "## Basit Bir Zaman Serisi Analizi"
   ]
  },
  {
   "cell_type": "markdown",
   "metadata": {},
   "source": [
    "Bu blok, zaman serisi analizi yaparak belirli zaman dilimlerinde istek yoğunluğunu incelemeye olanak tanır. Bu sayede, sistemin hangi zaman dilimlerinde daha fazla yük altında olduğunu anlayabiliriz."
   ]
  },
  {
   "cell_type": "code",
   "execution_count": 96,
   "metadata": {},
   "outputs": [
    {
     "name": "stdout",
     "output_type": "stream",
     "text": [
      "En fazla istek alan tarih: 2024-07-21, İstek Sayısı:10\n",
      "En az istek alan tarih: 2024-01-15, İstek Sayısı:1\n"
     ]
    }
   ],
   "source": [
    "df = pd.read_csv('/Users/ibrahim/Desktop/workspace/Chat-with-csv--Using-Semantic-Search-/Data/fake_web_traffic_logs_with_cities.csv')\n",
    "\n",
    "df['Timestamp'] = pd.to_datetime(df['Timestamp'])\n",
    "\n",
    "df['Date'] = df['Timestamp'].dt.date\n",
    "\n",
    "requests_by_date = df.groupby('Date').size()\n",
    "\n",
    "max_requests_date = requests_by_date.idxmax()\n",
    "max_requests_count = requests_by_date.max()\n",
    "\n",
    "min_requests_date = requests_by_date.idxmin()\n",
    "min_requests_count = requests_by_date.min()\n",
    "\n",
    "print(f\"En fazla istek alan tarih: {max_requests_date}, İstek Sayısı:{max_requests_count}\")\n",
    "print(f\"En az istek alan tarih: {min_requests_date}, İstek Sayısı:{min_requests_count}\")"
   ]
  }
 ],
 "metadata": {
  "kernelspec": {
   "display_name": "myenv",
   "language": "python",
   "name": "python3"
  },
  "language_info": {
   "codemirror_mode": {
    "name": "ipython",
    "version": 3
   },
   "file_extension": ".py",
   "mimetype": "text/x-python",
   "name": "python",
   "nbconvert_exporter": "python",
   "pygments_lexer": "ipython3",
   "version": "3.11.9"
  }
 },
 "nbformat": 4,
 "nbformat_minor": 2
}
